{
 "cells": [
  {
   "cell_type": "code",
   "execution_count": 1,
   "metadata": {},
   "outputs": [],
   "source": [
    "a = 10\n",
    "def change_value(a, value):\n",
    "    a=value\n",
    "    print(f'{a} in change_value')"
   ]
  },
  {
   "cell_type": "code",
   "execution_count": 2,
   "metadata": {},
   "outputs": [
    {
     "name": "stdout",
     "output_type": "stream",
     "text": [
      "30 in change_value\n",
      "10 in main\n"
     ]
    }
   ],
   "source": [
    "change_value(a, 30)\n",
    "print(f'{a} in main')"
   ]
  },
  {
   "cell_type": "code",
   "execution_count": 3,
   "metadata": {},
   "outputs": [],
   "source": [
    "li = [1, 2, 3]\n",
    "def change_index(li, idx, value):\n",
    "    li[idx] = value\n",
    "    print(li, 'in change_index')"
   ]
  },
  {
   "cell_type": "code",
   "execution_count": 5,
   "metadata": {},
   "outputs": [
    {
     "name": "stdout",
     "output_type": "stream",
     "text": [
      "[1, 200, 3] in change_index\n",
      "[1, 200, 3] in main\n"
     ]
    }
   ],
   "source": [
    "change_index(li, 1, 200)\n",
    "print(li, 'in main')"
   ]
  },
  {
   "cell_type": "code",
   "execution_count": 13,
   "metadata": {},
   "outputs": [],
   "source": [
    "# 값 자체를 할당하면 바뀌지 않는다.\n",
    "li = [1, 2, 3]\n",
    "def change_index2(li, idx, value):\n",
    "    li= [1, 200, 3]\n",
    "    print(li, 'in change_index')"
   ]
  },
  {
   "cell_type": "code",
   "execution_count": 14,
   "metadata": {},
   "outputs": [
    {
     "name": "stdout",
     "output_type": "stream",
     "text": [
      "[1, 200, 3] in change_index\n",
      "[1, 2, 3] in main\n"
     ]
    }
   ],
   "source": [
    "change_index2(li, 1, 200)\n",
    "print(li, 'in main')"
   ]
  },
  {
   "cell_type": "code",
   "execution_count": 15,
   "metadata": {},
   "outputs": [],
   "source": [
    "# immutable object\n",
    "# 함수 내부에서 값을 변경할 수 없다!"
   ]
  },
  {
   "cell_type": "code",
   "execution_count": 16,
   "metadata": {},
   "outputs": [],
   "source": [
    "# mutable object\n",
    "# 새로운 객체를 할당하는 게 아니라면\n",
    "# 함수 내부에서 값을 변경할 수 있다.\n",
    "# list, dictionary, set"
   ]
  },
  {
   "cell_type": "markdown",
   "metadata": {},
   "source": [
    "# 함수 내부에서 튜플 값을 바꿔야 한다면?\n",
    "### 인자 전달 방식?"
   ]
  },
  {
   "cell_type": "code",
   "execution_count": 17,
   "metadata": {},
   "outputs": [],
   "source": [
    "tu=(1, 2, 3)\n",
    "def change_tuple(tu, el, el2, el3):\n",
    "    tu = (el, el2, el3)\n",
    "    print(tu, 'in change_tuple')"
   ]
  },
  {
   "cell_type": "code",
   "execution_count": 19,
   "metadata": {},
   "outputs": [
    {
     "name": "stdout",
     "output_type": "stream",
     "text": [
      "(4, 5, 6) in change_tuple\n",
      "(1, 2, 3)\n"
     ]
    }
   ],
   "source": [
    "change_tuple(tu, 4, 5, 6)\n",
    "print(tu)"
   ]
  },
  {
   "cell_type": "code",
   "execution_count": 20,
   "metadata": {},
   "outputs": [],
   "source": [
    "# 값을 함수에서 return하고 받아라"
   ]
  },
  {
   "cell_type": "code",
   "execution_count": 21,
   "metadata": {},
   "outputs": [],
   "source": [
    "tu=(1, 2, 3)\n",
    "def change_tuple(tu, el, el2, el3):\n",
    "    tu = (el, el2, el3)\n",
    "    print(tu, 'in change_tuple')\n",
    "    return tu"
   ]
  },
  {
   "cell_type": "code",
   "execution_count": 23,
   "metadata": {},
   "outputs": [
    {
     "name": "stdout",
     "output_type": "stream",
     "text": [
      "(4, 5, 6) in change_tuple\n",
      "(4, 5, 6)\n"
     ]
    }
   ],
   "source": [
    "tu = change_tuple(tu, 4, 5, 6)\n",
    "print(tu)"
   ]
  },
  {
   "cell_type": "code",
   "execution_count": null,
   "metadata": {},
   "outputs": [],
   "source": []
  }
 ],
 "metadata": {
  "kernelspec": {
   "display_name": "Python 3",
   "language": "python",
   "name": "python3"
  },
  "language_info": {
   "codemirror_mode": {
    "name": "ipython",
    "version": 3
   },
   "file_extension": ".py",
   "mimetype": "text/x-python",
   "name": "python",
   "nbconvert_exporter": "python",
   "pygments_lexer": "ipython3",
   "version": "3.7.3"
  }
 },
 "nbformat": 4,
 "nbformat_minor": 2
}
