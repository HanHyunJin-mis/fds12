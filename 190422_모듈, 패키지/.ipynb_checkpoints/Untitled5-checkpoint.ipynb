{
 "cells": [
  {
   "cell_type": "markdown",
   "metadata": {},
   "source": [
    "# linear search\n",
    "# 선형 탐색"
   ]
  },
  {
   "cell_type": "code",
   "execution_count": 81,
   "metadata": {},
   "outputs": [],
   "source": [
    "li =[5, 4, 3, 1, 2, 10, 25]"
   ]
  },
  {
   "cell_type": "code",
   "execution_count": 82,
   "metadata": {},
   "outputs": [],
   "source": [
    "target = 5"
   ]
  },
  {
   "cell_type": "code",
   "execution_count": 8,
   "metadata": {},
   "outputs": [],
   "source": [
    "def linear_search(li, target):\n",
    "    for idx in range(len(li)):\n",
    "        if li[idx] == target:\n",
    "            return idx\n",
    "    return None"
   ]
  },
  {
   "cell_type": "code",
   "execution_count": 9,
   "metadata": {},
   "outputs": [
    {
     "data": {
      "text/plain": [
       "6"
      ]
     },
     "execution_count": 9,
     "metadata": {},
     "output_type": "execute_result"
    }
   ],
   "source": [
    "linear_search(li, target)"
   ]
  },
  {
   "cell_type": "code",
   "execution_count": 13,
   "metadata": {},
   "outputs": [],
   "source": [
    "# binary_search(li, target) -> idx\n",
    "# 타겟을 찾았다면 인덱스를 반환\n",
    "# 찾지 못했다면 None"
   ]
  },
  {
   "cell_type": "code",
   "execution_count": 67,
   "metadata": {},
   "outputs": [],
   "source": [
    "def binary_search(li, target):\n",
    "    a = 0\n",
    "    b = len(li)\n",
    "    \n",
    "    for idx in range(a, b):\n",
    "        mid = int((a + b)/2)\n",
    "        if li[mid] < target:\n",
    "            a = mid + 1\n",
    "        elif li[mid] > target:\n",
    "            b = mid - 1\n",
    "        elif li[mid] == target:\n",
    "            return mid\n",
    "    return None"
   ]
  },
  {
   "cell_type": "code",
   "execution_count": 68,
   "metadata": {},
   "outputs": [
    {
     "data": {
      "text/plain": [
       "6"
      ]
     },
     "execution_count": 68,
     "metadata": {},
     "output_type": "execute_result"
    }
   ],
   "source": [
    "binary_search(li, target)"
   ]
  },
  {
   "cell_type": "code",
   "execution_count": 91,
   "metadata": {},
   "outputs": [],
   "source": [
    "li =[1, 2, 3, 4, 5, 10, 25]"
   ]
  },
  {
   "cell_type": "code",
   "execution_count": 106,
   "metadata": {},
   "outputs": [],
   "source": [
    "target = 5"
   ]
  },
  {
   "cell_type": "code",
   "execution_count": 107,
   "metadata": {},
   "outputs": [],
   "source": [
    "def binary_search(li, target):\n",
    "    a = 0\n",
    "    b = len(li)\n",
    "    \n",
    "    for idx in range(a, b):\n",
    "        \n",
    "        mid = int((a + b)/2)\n",
    "        if li[mid] < target:\n",
    "            a = mid + 1\n",
    "        elif li[mid] > target:\n",
    "            b = mid - 1\n",
    "        elif li[mid] == target:\n",
    "            return mid\n",
    "    return None"
   ]
  },
  {
   "cell_type": "code",
   "execution_count": 108,
   "metadata": {},
   "outputs": [
    {
     "data": {
      "text/plain": [
       "4"
      ]
     },
     "execution_count": 108,
     "metadata": {},
     "output_type": "execute_result"
    }
   ],
   "source": [
    "binary_search(li, target)"
   ]
  },
  {
   "cell_type": "code",
   "execution_count": 113,
   "metadata": {},
   "outputs": [],
   "source": [
    "def binary_search(li, target):\n",
    "    a = 0\n",
    "    b = len(li)\n",
    "    while a <= b:\n",
    "        mid = (a + b)//2\n",
    "        if li[mid] < target:\n",
    "            a = mid + 1\n",
    "        elif li[mid] > target:\n",
    "            b = mid - 1\n",
    "        elif li[mid] == target:\n",
    "            return mid"
   ]
  },
  {
   "cell_type": "code",
   "execution_count": 112,
   "metadata": {},
   "outputs": [
    {
     "name": "stdout",
     "output_type": "stream",
     "text": [
      "range(0, 7)\n",
      "range(4, 7)\n",
      "range(4, 4)\n"
     ]
    },
    {
     "data": {
      "text/plain": [
       "4"
      ]
     },
     "execution_count": 112,
     "metadata": {},
     "output_type": "execute_result"
    }
   ],
   "source": [
    "binary_search(li, target)"
   ]
  },
  {
   "cell_type": "code",
   "execution_count": null,
   "metadata": {},
   "outputs": [],
   "source": []
  }
 ],
 "metadata": {
  "kernelspec": {
   "display_name": "Python 3",
   "language": "python",
   "name": "python3"
  },
  "language_info": {
   "codemirror_mode": {
    "name": "ipython",
    "version": 3
   },
   "file_extension": ".py",
   "mimetype": "text/x-python",
   "name": "python",
   "nbconvert_exporter": "python",
   "pygments_lexer": "ipython3",
   "version": "3.7.3"
  }
 },
 "nbformat": 4,
 "nbformat_minor": 2
}
