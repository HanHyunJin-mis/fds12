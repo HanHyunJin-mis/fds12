{
 "cells": [
  {
   "cell_type": "markdown",
   "metadata": {},
   "source": [
    "# 전역변수(global variable) vs 지역 변수(local variable)"
   ]
  },
  {
   "cell_type": "code",
   "execution_count": 2,
   "metadata": {},
   "outputs": [],
   "source": [
    "# 전역 변수\n",
    "a = 10"
   ]
  },
  {
   "cell_type": "code",
   "execution_count": 9,
   "metadata": {},
   "outputs": [],
   "source": [
    "def func():\n",
    "    b = 20\n",
    "\n",
    "# 실행되지 않았기 때문에 아직 지역변수가 선언되지 않았다"
   ]
  },
  {
   "cell_type": "code",
   "execution_count": 4,
   "metadata": {},
   "outputs": [],
   "source": [
    "func()"
   ]
  },
  {
   "cell_type": "code",
   "execution_count": 5,
   "metadata": {},
   "outputs": [],
   "source": [
    "a = 10"
   ]
  },
  {
   "cell_type": "code",
   "execution_count": 6,
   "metadata": {},
   "outputs": [
    {
     "name": "stdout",
     "output_type": "stream",
     "text": [
      "10 20 30\n"
     ]
    }
   ],
   "source": [
    "def f():\n",
    "    b=20\n",
    "    def g():\n",
    "        c = 30\n",
    "        print(a, b, c)\n",
    "    g()\n",
    "f()"
   ]
  },
  {
   "cell_type": "code",
   "execution_count": 7,
   "metadata": {},
   "outputs": [],
   "source": [
    "# g는 f의 nested function"
   ]
  },
  {
   "cell_type": "code",
   "execution_count": 8,
   "metadata": {},
   "outputs": [
    {
     "name": "stdout",
     "output_type": "stream",
     "text": [
      "10 30 30\n"
     ]
    }
   ],
   "source": [
    "def f():\n",
    "    b=20\n",
    "    def g():\n",
    "        b = 30\n",
    "        def h():\n",
    "            c = 30\n",
    "            print(a, b, c)\n",
    "        h()\n",
    "    g()\n",
    "f()"
   ]
  },
  {
   "cell_type": "code",
   "execution_count": 13,
   "metadata": {},
   "outputs": [],
   "source": [
    "a = 10\n",
    "def func():\n",
    "    # global이라는 키워드를 사용하면 지역변수를 전역변수로 사용할 수 있다. (파이썬에서만 존재)\n",
    "    global a\n",
    "    # func의 지역변수 a\n",
    "    a = 20\n",
    "    print(a, 'in func')\n",
    "\n",
    "# 밖의 a와 안의 a를 어떻게 구분할 것인가? -> stack frame"
   ]
  },
  {
   "cell_type": "code",
   "execution_count": 12,
   "metadata": {},
   "outputs": [
    {
     "name": "stdout",
     "output_type": "stream",
     "text": [
      "20 in func\n",
      "10 in main\n"
     ]
    }
   ],
   "source": [
    "func()\n",
    "print(a, 'in main')"
   ]
  },
  {
   "cell_type": "code",
   "execution_count": 17,
   "metadata": {},
   "outputs": [
    {
     "name": "stdout",
     "output_type": "stream",
     "text": [
      "30 in h\n",
      "30 in g\n"
     ]
    }
   ],
   "source": [
    "def f():\n",
    "    a = 10\n",
    "    def g():\n",
    "        b = 20\n",
    "        def h():\n",
    "            # 지역변수가 아닌 애 중에 b를 골라라(전역도 아님, 상위에 b가 없을 경우 error가 남)\n",
    "            nonlocal b\n",
    "            b = 30\n",
    "            print(b, 'in h')\n",
    "        h()\n",
    "        print(b, 'in g')\n",
    "    g()\n",
    "f()\n",
    "# name space 끝"
   ]
  },
  {
   "cell_type": "code",
   "execution_count": 15,
   "metadata": {},
   "outputs": [],
   "source": [
    "a = 10\n",
    "b = 20\n",
    "# 실행되지 않으면 메모리 할당이 안된다.\n",
    "def func(a, b):\n",
    "    c = a + b\n",
    "    return c"
   ]
  },
  {
   "cell_type": "code",
   "execution_count": 16,
   "metadata": {},
   "outputs": [
    {
     "data": {
      "text/plain": [
       "30"
      ]
     },
     "execution_count": 16,
     "metadata": {},
     "output_type": "execute_result"
    }
   ],
   "source": [
    "func(a, b)"
   ]
  },
  {
   "cell_type": "markdown",
   "metadata": {},
   "source": [
    "# 함수를 실행할 때 인자(parameter)를 어떻게 전달할 것인가?\n",
    "# call by value, call by reference"
   ]
  },
  {
   "cell_type": "code",
   "execution_count": 19,
   "metadata": {},
   "outputs": [],
   "source": [
    "a = 10\n",
    "b = 20\n",
    "def g(a, b):\n",
    "    print(a, b)\n",
    "    \n",
    "def func(a, b):\n",
    "    c = a + b\n",
    "    g(a, b)\n",
    "    return c"
   ]
  },
  {
   "cell_type": "code",
   "execution_count": null,
   "metadata": {},
   "outputs": [],
   "source": []
  }
 ],
 "metadata": {
  "kernelspec": {
   "display_name": "Python 3",
   "language": "python",
   "name": "python3"
  },
  "language_info": {
   "codemirror_mode": {
    "name": "ipython",
    "version": 3
   },
   "file_extension": ".py",
   "mimetype": "text/x-python",
   "name": "python",
   "nbconvert_exporter": "python",
   "pygments_lexer": "ipython3",
   "version": "3.7.3"
  }
 },
 "nbformat": 4,
 "nbformat_minor": 2
}
